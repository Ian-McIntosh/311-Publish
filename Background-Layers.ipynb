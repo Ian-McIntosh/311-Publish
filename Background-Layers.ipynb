{
  "cells": [
    {
      "cell_type": "markdown",
      "source": [
        "Import necessary packages"
      ],
      "metadata": {
        "nteract": {
          "transient": {
            "deleting": false
          }
        }
      }
    },
    {
      "cell_type": "code",
      "source": [
        "from pyproj import Proj, transform\n",
        "import geopandas as gpd\n",
        "import pandas as pd\n",
        "import matplotlib.pyplot as plt"
      ],
      "outputs": [],
      "execution_count": 1,
      "metadata": {
        "gather": {
          "logged": 1663776683731
        }
      }
    },
    {
      "cell_type": "markdown",
      "source": [
        "Converting latitudes and longitudes function"
      ],
      "metadata": {
        "nteract": {
          "transient": {
            "deleting": false
          }
        }
      }
    },
    {
      "cell_type": "code",
      "source": [
        "def convert(lat, lon):\n",
        "    inProj = Proj(init='epsg:4326')\n",
        "    outProj = Proj(init='epsg:5070')\n",
        "    x1,y1 = lat, lon\n",
        "    x2,y2 = transform(inProj,outProj,x1,y1)\n",
        "    return (x2,y2)"
      ],
      "outputs": [],
      "execution_count": 2,
      "metadata": {
        "jupyter": {
          "source_hidden": false,
          "outputs_hidden": false
        },
        "nteract": {
          "transient": {
            "deleting": false
          }
        },
        "gather": {
          "logged": 1663776688491
        }
      }
    },
    {
      "cell_type": "markdown",
      "source": [
        "Read in huc files"
      ],
      "metadata": {
        "nteract": {
          "transient": {
            "deleting": false
          }
        }
      }
    },
    {
      "cell_type": "code",
      "source": [
        "import fiona\n",
        "import geopandas as gpd\n",
        "\n",
        "# Get all the layers from the .gdb file \n",
        "layers = fiona.listlayers('wbdhu12_a_us_september2020-copy.gdb')\n",
        "layers\n",
        "\n",
        "for layer in layers:\n",
        "    hucs = gpd.read_file('wbdhu12_a_us_september2020-copy.gdb',layer=0)\n",
        "    # Do stuff with the gdf\n",
        "hucs"
      ],
      "outputs": [
        {
          "output_type": "execute_result",
          "execution_count": 5,
          "data": {
            "text/plain": "                                         tnmid  \\\n0       {AAF0D733-828B-4B8E-9E52-388A49AC0A23}   \n1       {FEEC96BB-D4C0-468F-A345-6996A458D7A7}   \n2       {5954C8E6-710A-4F46-9409-C39F7A4E8031}   \n3       {DF84FD2E-015D-4B39-9409-68BAF583D58C}   \n4       {D64CC50D-33CD-43A1-8FED-A43524B2A383}   \n...                                        ...   \n102903  {0E0F3DE6-1419-4E79-96B1-2BD90CFA5036}   \n102904  {CB049C8F-AD12-41D1-A988-6F7376E740A2}   \n102905  {0FC28768-98FF-4BB3-9A59-4BB38BD3CF02}   \n102906  {35E8E9DA-A9F9-4FE8-9D39-6BAF2F2FD363}   \n102907  {D3B03947-5815-47FD-94DF-CA8DEB6D527D}   \n\n                                  metasourceid sourcedatadesc  \\\n0       {33EA2180-A425-4AE6-951F-ABCBBF25B893}           None   \n1       {33EA2180-A425-4AE6-951F-ABCBBF25B893}           None   \n2       {33EA2180-A425-4AE6-951F-ABCBBF25B893}           None   \n3       {33EA2180-A425-4AE6-951F-ABCBBF25B893}           None   \n4       {33EA2180-A425-4AE6-951F-ABCBBF25B893}           None   \n...                                        ...            ...   \n102903                                                   None   \n102904                                                   None   \n102905                                                   None   \n102906                                                   None   \n102907                                                   None   \n\n       sourceoriginator sourcefeatureid                   loaddate  \\\n0                  None            None  2017-05-25T09:05:31+00:00   \n1                  None            None  2017-05-25T09:05:42+00:00   \n2                  None            None  2017-05-25T09:05:42+00:00   \n3                  None            None  2017-05-25T09:05:42+00:00   \n4                  None            None  2017-05-25T09:05:42+00:00   \n...                 ...             ...                        ...   \n102903             None            None  2020-08-19T07:45:29+00:00   \n102904             None            None  2020-08-19T07:45:29+00:00   \n102905             None            None  2020-08-19T07:45:29+00:00   \n102906             None            None  2020-08-19T07:45:29+00:00   \n102907             None            None  2020-08-19T07:45:29+00:00   \n\n        noncontributingareaacres  noncontributingareasqkm  areasqkm  \\\n0                            0.0                      0.0     53.46   \n1                            0.0                      0.0     42.55   \n2                            0.0                      0.0     62.97   \n3                            0.0                      0.0     82.87   \n4                            0.0                      0.0    101.75   \n...                          ...                      ...       ...   \n102903                       0.0                      0.0    128.77   \n102904                       0.0                      0.0     88.60   \n102905                       0.0                      0.0     70.06   \n102906                       0.0                      0.0    121.20   \n102907                       0.0                      0.0     97.28   \n\n        areaacres referencegnis_ids  \\\n0        13211.47              None   \n1        10514.34              None   \n2        15561.22              None   \n3        20477.59              None   \n4        25142.88              None   \n...           ...               ...   \n102903   31819.10           1398502   \n102904   21893.04           1398502   \n102905   17312.40              None   \n102906   29949.22              None   \n102907   24039.41           1404902   \n\n                                                     name states  \\\n0                          Judicial Ditch Number Thirteen  IA,MN   \n1                         West Branch Lac qui Parle River     MN   \n2                          County Ditch Number Thirtyfour     MN   \n3                        County Ditch Number Twentynine A     MN   \n4       County Ditch Number Seventynine-Lac qui Parle ...     MN   \n...                                                   ...    ...   \n102903                               Outlet Avingak Creek     AK   \n102904                           Headwaters Avingak Creek     AK   \n102905                                       190601020601     AK   \n102906                                       190601020602     AK   \n102907                         190601020603-Kokolik River     AK   \n\n               huc12 hutype humod         tohuc  Shape_Length  Shape_Area  \\\n0       070200090402      S    NM  070200090403      0.637165    0.005951   \n1       070200030503      S    NM  070200030705      0.456829    0.004851   \n2       070200030602      S    NM  070200030603      0.701524    0.007178   \n3       070200030701      S    NM  070200030702      0.747552    0.009439   \n4       070200030702      S    NM  070200030705      0.790646    0.011584   \n...              ...    ...   ...           ...           ...         ...   \n102903  190601020508      S    NM  190601020603      1.622485    0.029380   \n102904  190601020502      S    NM  190601020508      1.069471    0.020262   \n102905  190601020601      S    NM  190601020602      0.791424    0.015990   \n102906  190601020602      S    NM  190601020603      1.407443    0.027690   \n102907  190601020603      S    NM  190601020604      1.420269    0.022285   \n\n                                                 geometry  \n0       MULTIPOLYGON (((-94.01060 43.56298, -94.01046 ...  \n1       MULTIPOLYGON (((-96.13949 44.97296, -96.13908 ...  \n2       MULTIPOLYGON (((-95.91504 44.97483, -95.91437 ...  \n3       MULTIPOLYGON (((-96.27678 44.93935, -96.27532 ...  \n4       MULTIPOLYGON (((-96.02941 44.92618, -96.02912 ...  \n...                                                   ...  \n102903  MULTIPOLYGON (((-160.90508 69.44679, -160.9048...  \n102904  MULTIPOLYGON (((-160.68312 69.48122, -160.6824...  \n102905  MULTIPOLYGON (((-161.55166 69.46070, -161.5507...  \n102906  MULTIPOLYGON (((-161.38859 69.49604, -161.3882...  \n102907  MULTIPOLYGON (((-161.22936 69.56475, -161.2288...  \n\n[102908 rows x 20 columns]",
            "text/html": "<div>\n<style scoped>\n    .dataframe tbody tr th:only-of-type {\n        vertical-align: middle;\n    }\n\n    .dataframe tbody tr th {\n        vertical-align: top;\n    }\n\n    .dataframe thead th {\n        text-align: right;\n    }\n</style>\n<table border=\"1\" class=\"dataframe\">\n  <thead>\n    <tr style=\"text-align: right;\">\n      <th></th>\n      <th>tnmid</th>\n      <th>metasourceid</th>\n      <th>sourcedatadesc</th>\n      <th>sourceoriginator</th>\n      <th>sourcefeatureid</th>\n      <th>loaddate</th>\n      <th>noncontributingareaacres</th>\n      <th>noncontributingareasqkm</th>\n      <th>areasqkm</th>\n      <th>areaacres</th>\n      <th>referencegnis_ids</th>\n      <th>name</th>\n      <th>states</th>\n      <th>huc12</th>\n      <th>hutype</th>\n      <th>humod</th>\n      <th>tohuc</th>\n      <th>Shape_Length</th>\n      <th>Shape_Area</th>\n      <th>geometry</th>\n    </tr>\n  </thead>\n  <tbody>\n    <tr>\n      <th>0</th>\n      <td>{AAF0D733-828B-4B8E-9E52-388A49AC0A23}</td>\n      <td>{33EA2180-A425-4AE6-951F-ABCBBF25B893}</td>\n      <td>None</td>\n      <td>None</td>\n      <td>None</td>\n      <td>2017-05-25T09:05:31+00:00</td>\n      <td>0.0</td>\n      <td>0.0</td>\n      <td>53.46</td>\n      <td>13211.47</td>\n      <td>None</td>\n      <td>Judicial Ditch Number Thirteen</td>\n      <td>IA,MN</td>\n      <td>070200090402</td>\n      <td>S</td>\n      <td>NM</td>\n      <td>070200090403</td>\n      <td>0.637165</td>\n      <td>0.005951</td>\n      <td>MULTIPOLYGON (((-94.01060 43.56298, -94.01046 ...</td>\n    </tr>\n    <tr>\n      <th>1</th>\n      <td>{FEEC96BB-D4C0-468F-A345-6996A458D7A7}</td>\n      <td>{33EA2180-A425-4AE6-951F-ABCBBF25B893}</td>\n      <td>None</td>\n      <td>None</td>\n      <td>None</td>\n      <td>2017-05-25T09:05:42+00:00</td>\n      <td>0.0</td>\n      <td>0.0</td>\n      <td>42.55</td>\n      <td>10514.34</td>\n      <td>None</td>\n      <td>West Branch Lac qui Parle River</td>\n      <td>MN</td>\n      <td>070200030503</td>\n      <td>S</td>\n      <td>NM</td>\n      <td>070200030705</td>\n      <td>0.456829</td>\n      <td>0.004851</td>\n      <td>MULTIPOLYGON (((-96.13949 44.97296, -96.13908 ...</td>\n    </tr>\n    <tr>\n      <th>2</th>\n      <td>{5954C8E6-710A-4F46-9409-C39F7A4E8031}</td>\n      <td>{33EA2180-A425-4AE6-951F-ABCBBF25B893}</td>\n      <td>None</td>\n      <td>None</td>\n      <td>None</td>\n      <td>2017-05-25T09:05:42+00:00</td>\n      <td>0.0</td>\n      <td>0.0</td>\n      <td>62.97</td>\n      <td>15561.22</td>\n      <td>None</td>\n      <td>County Ditch Number Thirtyfour</td>\n      <td>MN</td>\n      <td>070200030602</td>\n      <td>S</td>\n      <td>NM</td>\n      <td>070200030603</td>\n      <td>0.701524</td>\n      <td>0.007178</td>\n      <td>MULTIPOLYGON (((-95.91504 44.97483, -95.91437 ...</td>\n    </tr>\n    <tr>\n      <th>3</th>\n      <td>{DF84FD2E-015D-4B39-9409-68BAF583D58C}</td>\n      <td>{33EA2180-A425-4AE6-951F-ABCBBF25B893}</td>\n      <td>None</td>\n      <td>None</td>\n      <td>None</td>\n      <td>2017-05-25T09:05:42+00:00</td>\n      <td>0.0</td>\n      <td>0.0</td>\n      <td>82.87</td>\n      <td>20477.59</td>\n      <td>None</td>\n      <td>County Ditch Number Twentynine A</td>\n      <td>MN</td>\n      <td>070200030701</td>\n      <td>S</td>\n      <td>NM</td>\n      <td>070200030702</td>\n      <td>0.747552</td>\n      <td>0.009439</td>\n      <td>MULTIPOLYGON (((-96.27678 44.93935, -96.27532 ...</td>\n    </tr>\n    <tr>\n      <th>4</th>\n      <td>{D64CC50D-33CD-43A1-8FED-A43524B2A383}</td>\n      <td>{33EA2180-A425-4AE6-951F-ABCBBF25B893}</td>\n      <td>None</td>\n      <td>None</td>\n      <td>None</td>\n      <td>2017-05-25T09:05:42+00:00</td>\n      <td>0.0</td>\n      <td>0.0</td>\n      <td>101.75</td>\n      <td>25142.88</td>\n      <td>None</td>\n      <td>County Ditch Number Seventynine-Lac qui Parle ...</td>\n      <td>MN</td>\n      <td>070200030702</td>\n      <td>S</td>\n      <td>NM</td>\n      <td>070200030705</td>\n      <td>0.790646</td>\n      <td>0.011584</td>\n      <td>MULTIPOLYGON (((-96.02941 44.92618, -96.02912 ...</td>\n    </tr>\n    <tr>\n      <th>...</th>\n      <td>...</td>\n      <td>...</td>\n      <td>...</td>\n      <td>...</td>\n      <td>...</td>\n      <td>...</td>\n      <td>...</td>\n      <td>...</td>\n      <td>...</td>\n      <td>...</td>\n      <td>...</td>\n      <td>...</td>\n      <td>...</td>\n      <td>...</td>\n      <td>...</td>\n      <td>...</td>\n      <td>...</td>\n      <td>...</td>\n      <td>...</td>\n      <td>...</td>\n    </tr>\n    <tr>\n      <th>102903</th>\n      <td>{0E0F3DE6-1419-4E79-96B1-2BD90CFA5036}</td>\n      <td></td>\n      <td>None</td>\n      <td>None</td>\n      <td>None</td>\n      <td>2020-08-19T07:45:29+00:00</td>\n      <td>0.0</td>\n      <td>0.0</td>\n      <td>128.77</td>\n      <td>31819.10</td>\n      <td>1398502</td>\n      <td>Outlet Avingak Creek</td>\n      <td>AK</td>\n      <td>190601020508</td>\n      <td>S</td>\n      <td>NM</td>\n      <td>190601020603</td>\n      <td>1.622485</td>\n      <td>0.029380</td>\n      <td>MULTIPOLYGON (((-160.90508 69.44679, -160.9048...</td>\n    </tr>\n    <tr>\n      <th>102904</th>\n      <td>{CB049C8F-AD12-41D1-A988-6F7376E740A2}</td>\n      <td></td>\n      <td>None</td>\n      <td>None</td>\n      <td>None</td>\n      <td>2020-08-19T07:45:29+00:00</td>\n      <td>0.0</td>\n      <td>0.0</td>\n      <td>88.60</td>\n      <td>21893.04</td>\n      <td>1398502</td>\n      <td>Headwaters Avingak Creek</td>\n      <td>AK</td>\n      <td>190601020502</td>\n      <td>S</td>\n      <td>NM</td>\n      <td>190601020508</td>\n      <td>1.069471</td>\n      <td>0.020262</td>\n      <td>MULTIPOLYGON (((-160.68312 69.48122, -160.6824...</td>\n    </tr>\n    <tr>\n      <th>102905</th>\n      <td>{0FC28768-98FF-4BB3-9A59-4BB38BD3CF02}</td>\n      <td></td>\n      <td>None</td>\n      <td>None</td>\n      <td>None</td>\n      <td>2020-08-19T07:45:29+00:00</td>\n      <td>0.0</td>\n      <td>0.0</td>\n      <td>70.06</td>\n      <td>17312.40</td>\n      <td>None</td>\n      <td>190601020601</td>\n      <td>AK</td>\n      <td>190601020601</td>\n      <td>S</td>\n      <td>NM</td>\n      <td>190601020602</td>\n      <td>0.791424</td>\n      <td>0.015990</td>\n      <td>MULTIPOLYGON (((-161.55166 69.46070, -161.5507...</td>\n    </tr>\n    <tr>\n      <th>102906</th>\n      <td>{35E8E9DA-A9F9-4FE8-9D39-6BAF2F2FD363}</td>\n      <td></td>\n      <td>None</td>\n      <td>None</td>\n      <td>None</td>\n      <td>2020-08-19T07:45:29+00:00</td>\n      <td>0.0</td>\n      <td>0.0</td>\n      <td>121.20</td>\n      <td>29949.22</td>\n      <td>None</td>\n      <td>190601020602</td>\n      <td>AK</td>\n      <td>190601020602</td>\n      <td>S</td>\n      <td>NM</td>\n      <td>190601020603</td>\n      <td>1.407443</td>\n      <td>0.027690</td>\n      <td>MULTIPOLYGON (((-161.38859 69.49604, -161.3882...</td>\n    </tr>\n    <tr>\n      <th>102907</th>\n      <td>{D3B03947-5815-47FD-94DF-CA8DEB6D527D}</td>\n      <td></td>\n      <td>None</td>\n      <td>None</td>\n      <td>None</td>\n      <td>2020-08-19T07:45:29+00:00</td>\n      <td>0.0</td>\n      <td>0.0</td>\n      <td>97.28</td>\n      <td>24039.41</td>\n      <td>1404902</td>\n      <td>190601020603-Kokolik River</td>\n      <td>AK</td>\n      <td>190601020603</td>\n      <td>S</td>\n      <td>NM</td>\n      <td>190601020604</td>\n      <td>1.420269</td>\n      <td>0.022285</td>\n      <td>MULTIPOLYGON (((-161.22936 69.56475, -161.2288...</td>\n    </tr>\n  </tbody>\n</table>\n<p>102908 rows × 20 columns</p>\n</div>"
          },
          "metadata": {}
        }
      ],
      "execution_count": 5,
      "metadata": {
        "jupyter": {
          "source_hidden": false,
          "outputs_hidden": false
        },
        "nteract": {
          "transient": {
            "deleting": false
          }
        },
        "gather": {
          "logged": 1663776795582
        }
      }
    },
    {
      "cell_type": "markdown",
      "source": [
        "Read in Texas geojson file"
      ],
      "metadata": {
        "nteract": {
          "transient": {
            "deleting": false
          }
        }
      }
    },
    {
      "cell_type": "code",
      "source": [
        "import geopandas as gpd\n",
        "texas = gpd.read_file(\"Texas.geojson\")\n",
        "texas"
      ],
      "outputs": [
        {
          "output_type": "execute_result",
          "execution_count": 7,
          "data": {
            "text/plain": "          release    capture_dates_range  \\\n0               1                          \n1               2    4/23/2020-4/25/2020   \n2               1                          \n3               1                          \n4               1                          \n...           ...                    ...   \n10678916        2   1/18/2020-11/15/2020   \n10678917        2   1/18/2020-11/15/2020   \n10678918        1                          \n10678919        2  12/14/2019-12/18/2019   \n10678920        1                          \n\n                                                   geometry  \n0         POLYGON ((-96.56063 32.83467, -96.56057 32.834...  \n1         POLYGON ((-96.56068 28.67777, -96.56079 28.677...  \n2         POLYGON ((-96.56073 33.25600, -96.56065 33.256...  \n3         POLYGON ((-96.56079 32.98237, -96.56079 32.982...  \n4         POLYGON ((-96.56085 33.48873, -96.56079 33.488...  \n...                                                     ...  \n10678916  POLYGON ((-96.60022 32.82340, -96.60029 32.823...  \n10678917  POLYGON ((-96.60023 32.82047, -96.60038 32.820...  \n10678918  POLYGON ((-96.60029 32.97534, -96.60016 32.975...  \n10678919  POLYGON ((-96.60032 30.18532, -96.60014 30.185...  \n10678920  POLYGON ((-96.60033 32.92042, -96.60030 32.920...  \n\n[10678921 rows x 3 columns]",
            "text/html": "<div>\n<style scoped>\n    .dataframe tbody tr th:only-of-type {\n        vertical-align: middle;\n    }\n\n    .dataframe tbody tr th {\n        vertical-align: top;\n    }\n\n    .dataframe thead th {\n        text-align: right;\n    }\n</style>\n<table border=\"1\" class=\"dataframe\">\n  <thead>\n    <tr style=\"text-align: right;\">\n      <th></th>\n      <th>release</th>\n      <th>capture_dates_range</th>\n      <th>geometry</th>\n    </tr>\n  </thead>\n  <tbody>\n    <tr>\n      <th>0</th>\n      <td>1</td>\n      <td></td>\n      <td>POLYGON ((-96.56063 32.83467, -96.56057 32.834...</td>\n    </tr>\n    <tr>\n      <th>1</th>\n      <td>2</td>\n      <td>4/23/2020-4/25/2020</td>\n      <td>POLYGON ((-96.56068 28.67777, -96.56079 28.677...</td>\n    </tr>\n    <tr>\n      <th>2</th>\n      <td>1</td>\n      <td></td>\n      <td>POLYGON ((-96.56073 33.25600, -96.56065 33.256...</td>\n    </tr>\n    <tr>\n      <th>3</th>\n      <td>1</td>\n      <td></td>\n      <td>POLYGON ((-96.56079 32.98237, -96.56079 32.982...</td>\n    </tr>\n    <tr>\n      <th>4</th>\n      <td>1</td>\n      <td></td>\n      <td>POLYGON ((-96.56085 33.48873, -96.56079 33.488...</td>\n    </tr>\n    <tr>\n      <th>...</th>\n      <td>...</td>\n      <td>...</td>\n      <td>...</td>\n    </tr>\n    <tr>\n      <th>10678916</th>\n      <td>2</td>\n      <td>1/18/2020-11/15/2020</td>\n      <td>POLYGON ((-96.60022 32.82340, -96.60029 32.823...</td>\n    </tr>\n    <tr>\n      <th>10678917</th>\n      <td>2</td>\n      <td>1/18/2020-11/15/2020</td>\n      <td>POLYGON ((-96.60023 32.82047, -96.60038 32.820...</td>\n    </tr>\n    <tr>\n      <th>10678918</th>\n      <td>1</td>\n      <td></td>\n      <td>POLYGON ((-96.60029 32.97534, -96.60016 32.975...</td>\n    </tr>\n    <tr>\n      <th>10678919</th>\n      <td>2</td>\n      <td>12/14/2019-12/18/2019</td>\n      <td>POLYGON ((-96.60032 30.18532, -96.60014 30.185...</td>\n    </tr>\n    <tr>\n      <th>10678920</th>\n      <td>1</td>\n      <td></td>\n      <td>POLYGON ((-96.60033 32.92042, -96.60030 32.920...</td>\n    </tr>\n  </tbody>\n</table>\n<p>10678921 rows × 3 columns</p>\n</div>"
          },
          "metadata": {}
        }
      ],
      "execution_count": 7,
      "metadata": {
        "jupyter": {
          "source_hidden": false,
          "outputs_hidden": false
        },
        "nteract": {
          "transient": {
            "deleting": false
          }
        },
        "gather": {
          "logged": 1663777283834
        }
      }
    },
    {
      "cell_type": "markdown",
      "source": [
        "Read in Austin shapefile"
      ],
      "metadata": {
        "nteract": {
          "transient": {
            "deleting": false
          }
        }
      }
    },
    {
      "cell_type": "code",
      "source": [
        "austin = gpd.read_file(\"Austin-copy/Austin.shp\")\n",
        "austin.crs\n",
        "austin = austin.to_crs(\"EPSG:5070\")"
      ],
      "outputs": [],
      "execution_count": 9,
      "metadata": {
        "jupyter": {
          "source_hidden": false,
          "outputs_hidden": false
        },
        "nteract": {
          "transient": {
            "deleting": false
          }
        },
        "gather": {
          "logged": 1663778667542
        }
      }
    },
    {
      "cell_type": "markdown",
      "source": [
        "Convert Texas geojson to EPSG:5070"
      ],
      "metadata": {
        "nteract": {
          "transient": {
            "deleting": false
          }
        }
      }
    },
    {
      "cell_type": "code",
      "source": [
        "texas.crs\n",
        "texas = texas.to_crs(\"EPSG:5070\")\n",
        "texas"
      ],
      "outputs": [
        {
          "output_type": "execute_result",
          "execution_count": 10,
          "data": {
            "text/plain": "          release    capture_dates_range  \\\n0               1                          \n1               2    4/23/2020-4/25/2020   \n2               1                          \n3               1                          \n4               1                          \n...           ...                    ...   \n10678916        2   1/18/2020-11/15/2020   \n10678917        2   1/18/2020-11/15/2020   \n10678918        1                          \n10678919        2  12/14/2019-12/18/2019   \n10678920        1                          \n\n                                                   geometry  \n0         POLYGON ((-52173.989 1084998.723, -52167.836 1...  \n1         POLYGON ((-54903.520 623033.582, -54914.556 62...  \n2         POLYGON ((-51905.187 1132022.295, -51897.782 1...  \n3         POLYGON ((-52091.438 1101479.716, -52091.361 1...  \n4         POLYGON ((-51763.294 1158010.013, -51757.593 1...  \n...                                                     ...  \n10678916  POLYGON ((-55865.953 1083764.049, -55872.830 1...  \n10678917  POLYGON ((-55868.763 1083437.045, -55882.728 1...  \n10678918  POLYGON ((-55765.283 1100717.831, -55753.432 1...  \n10678919  POLYGON ((-57730.470 790126.108, -57712.820 79...  \n10678920  POLYGON ((-55807.525 1094589.837, -55805.206 1...  \n\n[10678921 rows x 3 columns]",
            "text/html": "<div>\n<style scoped>\n    .dataframe tbody tr th:only-of-type {\n        vertical-align: middle;\n    }\n\n    .dataframe tbody tr th {\n        vertical-align: top;\n    }\n\n    .dataframe thead th {\n        text-align: right;\n    }\n</style>\n<table border=\"1\" class=\"dataframe\">\n  <thead>\n    <tr style=\"text-align: right;\">\n      <th></th>\n      <th>release</th>\n      <th>capture_dates_range</th>\n      <th>geometry</th>\n    </tr>\n  </thead>\n  <tbody>\n    <tr>\n      <th>0</th>\n      <td>1</td>\n      <td></td>\n      <td>POLYGON ((-52173.989 1084998.723, -52167.836 1...</td>\n    </tr>\n    <tr>\n      <th>1</th>\n      <td>2</td>\n      <td>4/23/2020-4/25/2020</td>\n      <td>POLYGON ((-54903.520 623033.582, -54914.556 62...</td>\n    </tr>\n    <tr>\n      <th>2</th>\n      <td>1</td>\n      <td></td>\n      <td>POLYGON ((-51905.187 1132022.295, -51897.782 1...</td>\n    </tr>\n    <tr>\n      <th>3</th>\n      <td>1</td>\n      <td></td>\n      <td>POLYGON ((-52091.438 1101479.716, -52091.361 1...</td>\n    </tr>\n    <tr>\n      <th>4</th>\n      <td>1</td>\n      <td></td>\n      <td>POLYGON ((-51763.294 1158010.013, -51757.593 1...</td>\n    </tr>\n    <tr>\n      <th>...</th>\n      <td>...</td>\n      <td>...</td>\n      <td>...</td>\n    </tr>\n    <tr>\n      <th>10678916</th>\n      <td>2</td>\n      <td>1/18/2020-11/15/2020</td>\n      <td>POLYGON ((-55865.953 1083764.049, -55872.830 1...</td>\n    </tr>\n    <tr>\n      <th>10678917</th>\n      <td>2</td>\n      <td>1/18/2020-11/15/2020</td>\n      <td>POLYGON ((-55868.763 1083437.045, -55882.728 1...</td>\n    </tr>\n    <tr>\n      <th>10678918</th>\n      <td>1</td>\n      <td></td>\n      <td>POLYGON ((-55765.283 1100717.831, -55753.432 1...</td>\n    </tr>\n    <tr>\n      <th>10678919</th>\n      <td>2</td>\n      <td>12/14/2019-12/18/2019</td>\n      <td>POLYGON ((-57730.470 790126.108, -57712.820 79...</td>\n    </tr>\n    <tr>\n      <th>10678920</th>\n      <td>1</td>\n      <td></td>\n      <td>POLYGON ((-55807.525 1094589.837, -55805.206 1...</td>\n    </tr>\n  </tbody>\n</table>\n<p>10678921 rows × 3 columns</p>\n</div>"
          },
          "metadata": {}
        }
      ],
      "execution_count": 10,
      "metadata": {
        "jupyter": {
          "source_hidden": false,
          "outputs_hidden": false
        },
        "nteract": {
          "transient": {
            "deleting": false
          }
        },
        "gather": {
          "logged": 1663785414636
        }
      }
    },
    {
      "cell_type": "markdown",
      "source": [
        "Get only the hucs you want"
      ],
      "metadata": {
        "nteract": {
          "transient": {
            "deleting": false
          }
        }
      }
    },
    {
      "cell_type": "code",
      "source": [
        "hucs.loc[hucs.states.str.contains('TX', flags=re.IGNORECASE, na=False,).sort_values()]"
      ],
      "outputs": [
        {
          "output_type": "execute_result",
          "execution_count": 11,
          "data": {
            "text/plain": "                                        tnmid  \\\n514    {BDAC6CF4-325B-4AC4-9AC0-A0DFB4CE4E87}   \n515    {2F817CCF-C287-4B1C-BD4E-087E2A66346E}   \n516    {E16FD25F-A288-4A75-B389-3003417C7F44}   \n517    {AF257BF1-071F-4382-8F25-BCEDCE620161}   \n518    {F26C2669-3337-4264-9CB4-60F7344D1B0F}   \n...                                       ...   \n98971  {EE39FFF1-F21D-49E3-B039-37EEDB3A5A6A}   \n98972  {4E21ECC0-76EA-4FDA-A1A3-952EC54D9ECE}   \n98973  {9BE82ADF-E29D-42FD-A528-ACF9A5EEF7AF}   \n98974  {C13C4F28-5E97-406A-8B86-7FC131F90C9A}   \n98975  {6C87C917-7417-4CE1-87B6-321F3B09DCE6}   \n\n                                 metasourceid sourcedatadesc sourceoriginator  \\\n514    {783BEFE1-2A71-4E52-BA69-150CC1180160}           None             None   \n515    {783BEFE1-2A71-4E52-BA69-150CC1180160}           None             None   \n516    {55B6A955-0EEF-4C59-AEA3-AA5657F578A3}           None             None   \n517    {55B6A955-0EEF-4C59-AEA3-AA5657F578A3}           None             None   \n518    {55B6A955-0EEF-4C59-AEA3-AA5657F578A3}           None             None   \n...                                       ...            ...              ...   \n98971                                    None           None             None   \n98972                                    None           None             None   \n98973                                    None           None             None   \n98974                                    None           None             None   \n98975                                    None           None             None   \n\n      sourcefeatureid                   loaddate  noncontributingareaacres  \\\n514              None  2016-03-10T13:18:38+00:00                       0.0   \n515              None  2016-03-10T13:18:40+00:00                       0.0   \n516              None  2016-03-10T14:10:13+00:00                       0.0   \n517              None  2016-03-10T14:10:13+00:00                       0.0   \n518              None  2016-03-10T14:10:15+00:00                       0.0   \n...               ...                        ...                       ...   \n98971            None  2013-01-18T07:09:00+00:00                       0.0   \n98972            None  2013-01-18T07:09:00+00:00                       0.0   \n98973            None  2013-01-18T07:09:00+00:00                       0.0   \n98974            None  2013-01-18T07:09:00+00:00                       0.0   \n98975            None  2013-01-18T07:09:00+00:00                       0.0   \n\n       noncontributingareasqkm  areasqkm  areaacres referencegnis_ids  \\\n514                        0.0    103.50   25574.30              None   \n515                        0.0     96.79   23917.77              None   \n516                        0.0     97.73   24148.86              None   \n517                        0.0    133.61   33015.29              None   \n518                        0.0     86.41   21353.02              None   \n...                        ...       ...        ...               ...   \n98971                      0.0     86.87   21465.93              None   \n98972                      0.0     92.85   22944.77              None   \n98973                      0.0    131.87   32584.67              None   \n98974                      0.0    105.08   25966.64              None   \n98975                      0.0    128.82   31832.82              None   \n\n                                        name states         huc12 hutype  \\\n514                     Cole Creek-Cow Bayou     TX  120100051004      S   \n515                     Coon Bayou-Cow Bayou     TX  120100051005      S   \n516               Crooked Marsh-Whites Bayou     TX  120302030202      S   \n517                      Upper Farmers Creek     TX  111302010505      S   \n518    Gibbons Branch-Elm Fork Trinity River     TX  120301030101      S   \n...                                      ...    ...           ...    ...   \n98971              Oak Branch-Chambers Creek     TX  120301090402      S   \n98972           Tupelo Branch-Chambers Creek     TX  120301090403      S   \n98973                            Briar Creek     TX  120301090404      S   \n98974               Elm Creek-Post Oak Creek     TX  120301090405      S   \n98975             Cedar Creek-Chambers Creek     TX  120301090406      S   \n\n          humod         tohuc  Shape_Length  Shape_Area  \\\n514       LE,TF  120100051005      0.608006    0.009689   \n515          NM  120100051100      0.547020    0.009056   \n516    GC,TF,DD  120302030204      0.575162    0.009126   \n517          NM  111302010506      0.591959    0.012997   \n518          GC  120301030102      0.472770    0.008401   \n...         ...           ...           ...         ...   \n98971     LE,ID  120301090403      0.624229    0.008308   \n98972  LE,ID.GC  120301090406      0.545236    0.008879   \n98973     TF,GC  120301090406      0.833982    0.012603   \n98974        NM  120301090406      0.526842    0.010037   \n98975        RS  120301090407      0.647266    0.012304   \n\n                                                geometry  \n514    MULTIPOLYGON (((-93.86505 30.20031, -93.86538 ...  \n515    MULTIPOLYGON (((-93.85095 30.17103, -93.85023 ...  \n516    MULTIPOLYGON (((-94.57418 29.97057, -94.57196 ...  \n517    MULTIPOLYGON (((-97.58574 33.78272, -97.58369 ...  \n518    MULTIPOLYGON (((-97.47452 33.70897, -97.47438 ...  \n...                                                  ...  \n98971  MULTIPOLYGON (((-96.47247 32.19965, -96.47225 ...  \n98972  MULTIPOLYGON (((-96.41595 32.23146, -96.41613 ...  \n98973  MULTIPOLYGON (((-96.62748 32.17036, -96.62590 ...  \n98974  MULTIPOLYGON (((-96.38468 32.10107, -96.38302 ...  \n98975  MULTIPOLYGON (((-96.26688 32.10619, -96.25999 ...  \n\n[6362 rows x 20 columns]",
            "text/html": "<div>\n<style scoped>\n    .dataframe tbody tr th:only-of-type {\n        vertical-align: middle;\n    }\n\n    .dataframe tbody tr th {\n        vertical-align: top;\n    }\n\n    .dataframe thead th {\n        text-align: right;\n    }\n</style>\n<table border=\"1\" class=\"dataframe\">\n  <thead>\n    <tr style=\"text-align: right;\">\n      <th></th>\n      <th>tnmid</th>\n      <th>metasourceid</th>\n      <th>sourcedatadesc</th>\n      <th>sourceoriginator</th>\n      <th>sourcefeatureid</th>\n      <th>loaddate</th>\n      <th>noncontributingareaacres</th>\n      <th>noncontributingareasqkm</th>\n      <th>areasqkm</th>\n      <th>areaacres</th>\n      <th>referencegnis_ids</th>\n      <th>name</th>\n      <th>states</th>\n      <th>huc12</th>\n      <th>hutype</th>\n      <th>humod</th>\n      <th>tohuc</th>\n      <th>Shape_Length</th>\n      <th>Shape_Area</th>\n      <th>geometry</th>\n    </tr>\n  </thead>\n  <tbody>\n    <tr>\n      <th>514</th>\n      <td>{BDAC6CF4-325B-4AC4-9AC0-A0DFB4CE4E87}</td>\n      <td>{783BEFE1-2A71-4E52-BA69-150CC1180160}</td>\n      <td>None</td>\n      <td>None</td>\n      <td>None</td>\n      <td>2016-03-10T13:18:38+00:00</td>\n      <td>0.0</td>\n      <td>0.0</td>\n      <td>103.50</td>\n      <td>25574.30</td>\n      <td>None</td>\n      <td>Cole Creek-Cow Bayou</td>\n      <td>TX</td>\n      <td>120100051004</td>\n      <td>S</td>\n      <td>LE,TF</td>\n      <td>120100051005</td>\n      <td>0.608006</td>\n      <td>0.009689</td>\n      <td>MULTIPOLYGON (((-93.86505 30.20031, -93.86538 ...</td>\n    </tr>\n    <tr>\n      <th>515</th>\n      <td>{2F817CCF-C287-4B1C-BD4E-087E2A66346E}</td>\n      <td>{783BEFE1-2A71-4E52-BA69-150CC1180160}</td>\n      <td>None</td>\n      <td>None</td>\n      <td>None</td>\n      <td>2016-03-10T13:18:40+00:00</td>\n      <td>0.0</td>\n      <td>0.0</td>\n      <td>96.79</td>\n      <td>23917.77</td>\n      <td>None</td>\n      <td>Coon Bayou-Cow Bayou</td>\n      <td>TX</td>\n      <td>120100051005</td>\n      <td>S</td>\n      <td>NM</td>\n      <td>120100051100</td>\n      <td>0.547020</td>\n      <td>0.009056</td>\n      <td>MULTIPOLYGON (((-93.85095 30.17103, -93.85023 ...</td>\n    </tr>\n    <tr>\n      <th>516</th>\n      <td>{E16FD25F-A288-4A75-B389-3003417C7F44}</td>\n      <td>{55B6A955-0EEF-4C59-AEA3-AA5657F578A3}</td>\n      <td>None</td>\n      <td>None</td>\n      <td>None</td>\n      <td>2016-03-10T14:10:13+00:00</td>\n      <td>0.0</td>\n      <td>0.0</td>\n      <td>97.73</td>\n      <td>24148.86</td>\n      <td>None</td>\n      <td>Crooked Marsh-Whites Bayou</td>\n      <td>TX</td>\n      <td>120302030202</td>\n      <td>S</td>\n      <td>GC,TF,DD</td>\n      <td>120302030204</td>\n      <td>0.575162</td>\n      <td>0.009126</td>\n      <td>MULTIPOLYGON (((-94.57418 29.97057, -94.57196 ...</td>\n    </tr>\n    <tr>\n      <th>517</th>\n      <td>{AF257BF1-071F-4382-8F25-BCEDCE620161}</td>\n      <td>{55B6A955-0EEF-4C59-AEA3-AA5657F578A3}</td>\n      <td>None</td>\n      <td>None</td>\n      <td>None</td>\n      <td>2016-03-10T14:10:13+00:00</td>\n      <td>0.0</td>\n      <td>0.0</td>\n      <td>133.61</td>\n      <td>33015.29</td>\n      <td>None</td>\n      <td>Upper Farmers Creek</td>\n      <td>TX</td>\n      <td>111302010505</td>\n      <td>S</td>\n      <td>NM</td>\n      <td>111302010506</td>\n      <td>0.591959</td>\n      <td>0.012997</td>\n      <td>MULTIPOLYGON (((-97.58574 33.78272, -97.58369 ...</td>\n    </tr>\n    <tr>\n      <th>518</th>\n      <td>{F26C2669-3337-4264-9CB4-60F7344D1B0F}</td>\n      <td>{55B6A955-0EEF-4C59-AEA3-AA5657F578A3}</td>\n      <td>None</td>\n      <td>None</td>\n      <td>None</td>\n      <td>2016-03-10T14:10:15+00:00</td>\n      <td>0.0</td>\n      <td>0.0</td>\n      <td>86.41</td>\n      <td>21353.02</td>\n      <td>None</td>\n      <td>Gibbons Branch-Elm Fork Trinity River</td>\n      <td>TX</td>\n      <td>120301030101</td>\n      <td>S</td>\n      <td>GC</td>\n      <td>120301030102</td>\n      <td>0.472770</td>\n      <td>0.008401</td>\n      <td>MULTIPOLYGON (((-97.47452 33.70897, -97.47438 ...</td>\n    </tr>\n    <tr>\n      <th>...</th>\n      <td>...</td>\n      <td>...</td>\n      <td>...</td>\n      <td>...</td>\n      <td>...</td>\n      <td>...</td>\n      <td>...</td>\n      <td>...</td>\n      <td>...</td>\n      <td>...</td>\n      <td>...</td>\n      <td>...</td>\n      <td>...</td>\n      <td>...</td>\n      <td>...</td>\n      <td>...</td>\n      <td>...</td>\n      <td>...</td>\n      <td>...</td>\n      <td>...</td>\n    </tr>\n    <tr>\n      <th>98971</th>\n      <td>{EE39FFF1-F21D-49E3-B039-37EEDB3A5A6A}</td>\n      <td>None</td>\n      <td>None</td>\n      <td>None</td>\n      <td>None</td>\n      <td>2013-01-18T07:09:00+00:00</td>\n      <td>0.0</td>\n      <td>0.0</td>\n      <td>86.87</td>\n      <td>21465.93</td>\n      <td>None</td>\n      <td>Oak Branch-Chambers Creek</td>\n      <td>TX</td>\n      <td>120301090402</td>\n      <td>S</td>\n      <td>LE,ID</td>\n      <td>120301090403</td>\n      <td>0.624229</td>\n      <td>0.008308</td>\n      <td>MULTIPOLYGON (((-96.47247 32.19965, -96.47225 ...</td>\n    </tr>\n    <tr>\n      <th>98972</th>\n      <td>{4E21ECC0-76EA-4FDA-A1A3-952EC54D9ECE}</td>\n      <td>None</td>\n      <td>None</td>\n      <td>None</td>\n      <td>None</td>\n      <td>2013-01-18T07:09:00+00:00</td>\n      <td>0.0</td>\n      <td>0.0</td>\n      <td>92.85</td>\n      <td>22944.77</td>\n      <td>None</td>\n      <td>Tupelo Branch-Chambers Creek</td>\n      <td>TX</td>\n      <td>120301090403</td>\n      <td>S</td>\n      <td>LE,ID.GC</td>\n      <td>120301090406</td>\n      <td>0.545236</td>\n      <td>0.008879</td>\n      <td>MULTIPOLYGON (((-96.41595 32.23146, -96.41613 ...</td>\n    </tr>\n    <tr>\n      <th>98973</th>\n      <td>{9BE82ADF-E29D-42FD-A528-ACF9A5EEF7AF}</td>\n      <td>None</td>\n      <td>None</td>\n      <td>None</td>\n      <td>None</td>\n      <td>2013-01-18T07:09:00+00:00</td>\n      <td>0.0</td>\n      <td>0.0</td>\n      <td>131.87</td>\n      <td>32584.67</td>\n      <td>None</td>\n      <td>Briar Creek</td>\n      <td>TX</td>\n      <td>120301090404</td>\n      <td>S</td>\n      <td>TF,GC</td>\n      <td>120301090406</td>\n      <td>0.833982</td>\n      <td>0.012603</td>\n      <td>MULTIPOLYGON (((-96.62748 32.17036, -96.62590 ...</td>\n    </tr>\n    <tr>\n      <th>98974</th>\n      <td>{C13C4F28-5E97-406A-8B86-7FC131F90C9A}</td>\n      <td>None</td>\n      <td>None</td>\n      <td>None</td>\n      <td>None</td>\n      <td>2013-01-18T07:09:00+00:00</td>\n      <td>0.0</td>\n      <td>0.0</td>\n      <td>105.08</td>\n      <td>25966.64</td>\n      <td>None</td>\n      <td>Elm Creek-Post Oak Creek</td>\n      <td>TX</td>\n      <td>120301090405</td>\n      <td>S</td>\n      <td>NM</td>\n      <td>120301090406</td>\n      <td>0.526842</td>\n      <td>0.010037</td>\n      <td>MULTIPOLYGON (((-96.38468 32.10107, -96.38302 ...</td>\n    </tr>\n    <tr>\n      <th>98975</th>\n      <td>{6C87C917-7417-4CE1-87B6-321F3B09DCE6}</td>\n      <td>None</td>\n      <td>None</td>\n      <td>None</td>\n      <td>None</td>\n      <td>2013-01-18T07:09:00+00:00</td>\n      <td>0.0</td>\n      <td>0.0</td>\n      <td>128.82</td>\n      <td>31832.82</td>\n      <td>None</td>\n      <td>Cedar Creek-Chambers Creek</td>\n      <td>TX</td>\n      <td>120301090406</td>\n      <td>S</td>\n      <td>RS</td>\n      <td>120301090407</td>\n      <td>0.647266</td>\n      <td>0.012304</td>\n      <td>MULTIPOLYGON (((-96.26688 32.10619, -96.25999 ...</td>\n    </tr>\n  </tbody>\n</table>\n<p>6362 rows × 20 columns</p>\n</div>"
          },
          "metadata": {}
        }
      ],
      "execution_count": 11,
      "metadata": {
        "jupyter": {
          "source_hidden": false,
          "outputs_hidden": false
        },
        "nteract": {
          "transient": {
            "deleting": false
          }
        },
        "gather": {
          "logged": 1663785414811
        }
      }
    },
    {
      "cell_type": "markdown",
      "source": [
        "Convert Hucs to EPSG:5070, get hucs inside Austin"
      ],
      "metadata": {
        "nteract": {
          "transient": {
            "deleting": false
          }
        }
      }
    },
    {
      "cell_type": "code",
      "source": [
        "hucs.crs\n",
        "hucs = hucs.to_crs(\"EPSG:5070\")\n",
        "hucs = gpd.sjoin(hucs, austin)"
      ],
      "outputs": [],
      "execution_count": 12,
      "metadata": {
        "jupyter": {
          "source_hidden": false,
          "outputs_hidden": false
        },
        "nteract": {
          "transient": {
            "deleting": false
          }
        },
        "gather": {
          "logged": 1663785414978
        }
      }
    },
    {
      "cell_type": "markdown",
      "source": [
        "Join hucs and texas geojson"
      ],
      "metadata": {
        "nteract": {
          "transient": {
            "deleting": false
          }
        }
      }
    },
    {
      "cell_type": "code",
      "source": [
        "texas = gpd.sjoin(texas, hucs[['huc12', 'geometry']])"
      ],
      "outputs": [],
      "execution_count": 13,
      "metadata": {
        "jupyter": {
          "source_hidden": false,
          "outputs_hidden": false
        },
        "nteract": {
          "transient": {
            "deleting": false
          }
        },
        "gather": {
          "logged": 1663785415153
        }
      }
    },
    {
      "cell_type": "markdown",
      "source": [
        "Make sure joining worked"
      ],
      "metadata": {
        "nteract": {
          "transient": {
            "deleting": false
          }
        }
      }
    },
    {
      "cell_type": "code",
      "source": [
        "texas"
      ],
      "outputs": [
        {
          "output_type": "execute_result",
          "execution_count": 14,
          "data": {
            "text/plain": "          release capture_dates_range  \\\n113153          2  2/6/2020-4/19/2020   \n113226          2  2/6/2020-4/19/2020   \n113465          2  2/6/2020-4/19/2020   \n114512          2  2/6/2020-4/19/2020   \n115054          2  2/6/2020-4/19/2020   \n...           ...                 ...   \n10467688        1                       \n10467692        1                       \n10467702        1                       \n10468158        1                       \n10469322        1                       \n\n                                                   geometry  index_right  \\\n113153    POLYGON ((-132855.629 798986.270, -132860.320 ...        96080   \n113226    POLYGON ((-132745.161 809005.160, -132750.155 ...        96080   \n113465    POLYGON ((-132910.967 809312.126, -132913.805 ...        96080   \n114512    POLYGON ((-133661.810 808744.543, -133658.031 ...        96080   \n115054    POLYGON ((-134006.767 808622.322, -134000.897 ...        96080   \n...                                                     ...          ...   \n10467688  POLYGON ((-197298.039 818869.688, -197307.865 ...        96875   \n10467692  POLYGON ((-197335.923 818816.513, -197326.145 ...        96875   \n10467702  POLYGON ((-197548.973 811426.978, -197567.606 ...        96875   \n10468158  POLYGON ((-198440.629 811839.364, -198446.603 ...        96875   \n10469322  POLYGON ((-200351.102 805320.104, -200348.766 ...        96875   \n\n                 huc12  \n113153    120903010105  \n113226    120903010105  \n113465    120903010105  \n114512    120903010105  \n115054    120903010105  \n...                ...  \n10467688  120902050204  \n10467692  120902050204  \n10467702  120902050204  \n10468158  120902050204  \n10469322  120902050204  \n\n[6609556 rows x 5 columns]",
            "text/html": "<div>\n<style scoped>\n    .dataframe tbody tr th:only-of-type {\n        vertical-align: middle;\n    }\n\n    .dataframe tbody tr th {\n        vertical-align: top;\n    }\n\n    .dataframe thead th {\n        text-align: right;\n    }\n</style>\n<table border=\"1\" class=\"dataframe\">\n  <thead>\n    <tr style=\"text-align: right;\">\n      <th></th>\n      <th>release</th>\n      <th>capture_dates_range</th>\n      <th>geometry</th>\n      <th>index_right</th>\n      <th>huc12</th>\n    </tr>\n  </thead>\n  <tbody>\n    <tr>\n      <th>113153</th>\n      <td>2</td>\n      <td>2/6/2020-4/19/2020</td>\n      <td>POLYGON ((-132855.629 798986.270, -132860.320 ...</td>\n      <td>96080</td>\n      <td>120903010105</td>\n    </tr>\n    <tr>\n      <th>113226</th>\n      <td>2</td>\n      <td>2/6/2020-4/19/2020</td>\n      <td>POLYGON ((-132745.161 809005.160, -132750.155 ...</td>\n      <td>96080</td>\n      <td>120903010105</td>\n    </tr>\n    <tr>\n      <th>113465</th>\n      <td>2</td>\n      <td>2/6/2020-4/19/2020</td>\n      <td>POLYGON ((-132910.967 809312.126, -132913.805 ...</td>\n      <td>96080</td>\n      <td>120903010105</td>\n    </tr>\n    <tr>\n      <th>114512</th>\n      <td>2</td>\n      <td>2/6/2020-4/19/2020</td>\n      <td>POLYGON ((-133661.810 808744.543, -133658.031 ...</td>\n      <td>96080</td>\n      <td>120903010105</td>\n    </tr>\n    <tr>\n      <th>115054</th>\n      <td>2</td>\n      <td>2/6/2020-4/19/2020</td>\n      <td>POLYGON ((-134006.767 808622.322, -134000.897 ...</td>\n      <td>96080</td>\n      <td>120903010105</td>\n    </tr>\n    <tr>\n      <th>...</th>\n      <td>...</td>\n      <td>...</td>\n      <td>...</td>\n      <td>...</td>\n      <td>...</td>\n    </tr>\n    <tr>\n      <th>10467688</th>\n      <td>1</td>\n      <td></td>\n      <td>POLYGON ((-197298.039 818869.688, -197307.865 ...</td>\n      <td>96875</td>\n      <td>120902050204</td>\n    </tr>\n    <tr>\n      <th>10467692</th>\n      <td>1</td>\n      <td></td>\n      <td>POLYGON ((-197335.923 818816.513, -197326.145 ...</td>\n      <td>96875</td>\n      <td>120902050204</td>\n    </tr>\n    <tr>\n      <th>10467702</th>\n      <td>1</td>\n      <td></td>\n      <td>POLYGON ((-197548.973 811426.978, -197567.606 ...</td>\n      <td>96875</td>\n      <td>120902050204</td>\n    </tr>\n    <tr>\n      <th>10468158</th>\n      <td>1</td>\n      <td></td>\n      <td>POLYGON ((-198440.629 811839.364, -198446.603 ...</td>\n      <td>96875</td>\n      <td>120902050204</td>\n    </tr>\n    <tr>\n      <th>10469322</th>\n      <td>1</td>\n      <td></td>\n      <td>POLYGON ((-200351.102 805320.104, -200348.766 ...</td>\n      <td>96875</td>\n      <td>120902050204</td>\n    </tr>\n  </tbody>\n</table>\n<p>6609556 rows × 5 columns</p>\n</div>"
          },
          "metadata": {}
        }
      ],
      "execution_count": 14,
      "metadata": {
        "jupyter": {
          "source_hidden": false,
          "outputs_hidden": false
        },
        "nteract": {
          "transient": {
            "deleting": false
          }
        },
        "gather": {
          "logged": 1663785415418
        }
      }
    },
    {
      "cell_type": "markdown",
      "source": [
        "Take resulting file and save it"
      ],
      "metadata": {
        "nteract": {
          "transient": {
            "deleting": false
          }
        }
      }
    },
    {
      "cell_type": "code",
      "source": [
        "texas.to_csv(\"structures.csv\")"
      ],
      "outputs": [],
      "execution_count": 15,
      "metadata": {
        "jupyter": {
          "source_hidden": false,
          "outputs_hidden": false
        },
        "nteract": {
          "transient": {
            "deleting": false
          }
        },
        "gather": {
          "logged": 1663785415583
        }
      }
    },
    {
      "cell_type": "markdown",
      "source": [
        "Add necessary columns to run model"
      ],
      "metadata": {
        "nteract": {
          "transient": {
            "deleting": false
          }
        }
      }
    },
    {
      "cell_type": "code",
      "source": [
        "from matplotlib.pyplot import figure\r\n",
        "import pandas as pd\r\n",
        "import geopandas as gpd\r\n",
        "background = pd.read_csv(\"structures.csv\")\r\n",
        "dry = []\r\n",
        "year_of_loss = []\r\n",
        "centroids = []\r\n",
        "Xs = []\r\n",
        "Ys = []\r\n",
        "from shapely import wkt\r\n",
        "background['geometry'] = background['geometry'].apply(wkt.loads)\r\n",
        "gdf = gpd.GeoDataFrame(background, crs='epsg:5070')\r\n",
        "for i in background.index:\r\n",
        "    geom = background['geometry'][i]\r\n",
        "    centroid = (geom.centroid.x,geom.centroid.y)\r\n",
        "    centroids.append(centroid)\r\n",
        "for centroid in centroids:\r\n",
        "    Xs.append(centroid[0])\r\n",
        "    Ys.append(centroid[1])\r\n",
        "for i in range(len(background.index)):\r\n",
        "    dry.append('dry')\r\n",
        "    year_of_loss.append(2021)\r\n",
        "background['Flooded/Dry'] = dry\r\n",
        "#austin['year_of_loss'] = year_of_loss\r\n",
        "background['X'] = Xs\r\n",
        "background['Y'] = Ys\r\n",
        "#background.crs\r\n",
        "#city = background.to_crs(\"EPSG:5070\")\r\n",
        "#ax = city.plot(color='red', edgecolor='black', figsize=(12, 12))\r\n",
        "background.to_csv('background_locations.csv')"
      ],
      "outputs": [],
      "execution_count": 16,
      "metadata": {
        "jupyter": {
          "source_hidden": false,
          "outputs_hidden": false
        },
        "nteract": {
          "transient": {
            "deleting": false
          }
        },
        "gather": {
          "logged": 1663785415772
        }
      }
    }
  ],
  "metadata": {
    "kernelspec": {
      "name": "gdal",
      "language": "python",
      "display_name": "GDAL"
    },
    "language_info": {
      "name": "python",
      "version": "3.8.8",
      "mimetype": "text/x-python",
      "codemirror_mode": {
        "name": "ipython",
        "version": 3
      },
      "pygments_lexer": "ipython3",
      "nbconvert_exporter": "python",
      "file_extension": ".py"
    },
    "kernel_info": {
      "name": "gdal"
    },
    "nteract": {
      "version": "nteract-front-end@1.0.0"
    },
    "microsoft": {
      "host": {
        "AzureML": {
          "notebookHasBeenCompleted": true
        }
      }
    }
  },
  "nbformat": 4,
  "nbformat_minor": 2
}